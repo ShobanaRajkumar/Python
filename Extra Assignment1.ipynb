{
 "cells": [
  {
   "cell_type": "code",
   "execution_count": null,
   "id": "d7a1f66b-306d-4817-881a-b2ac3135a285",
   "metadata": {},
   "outputs": [],
   "source": [
    "# print statement\n",
    "print(\"HOPE AI\")\n"
   ]
  },
  {
   "cell_type": "code",
   "execution_count": 1,
   "id": "32069221-7271-4427-8f5d-9890f6c0f0ad",
   "metadata": {},
   "outputs": [
    {
     "name": "stdin",
     "output_type": "stream",
     "text": [
      "Enter Your Name: Raj\n",
      "Enter Your Age: 15\n",
      "Enter Your School Name: Guru School\n",
      "Enter Your Degree: B.E CSE\n"
     ]
    }
   ],
   "source": [
    "#Buy Input\n",
    "name=input(\"Enter Your Name:\")\n",
    "age=int(input(\"Enter Your Age:\"))\n",
    "school_Name=input(\"Enter Your School Name:\")\n",
    "degree=input(\"Enter Your Degree:\")\n"
   ]
  },
  {
   "cell_type": "code",
   "execution_count": 3,
   "id": "a2d5483f-4bab-4341-bc13-588a0c77f5c9",
   "metadata": {},
   "outputs": [
    {
     "name": "stdout",
     "output_type": "stream",
     "text": [
      "a= 43\n",
      "b= 34\n",
      "add= 77\n"
     ]
    }
   ],
   "source": [
    "#Addition\n",
    "a=43\n",
    "b=34\n",
    "add=a+b\n",
    "print(\"a=\",a)\n",
    "print(\"b=\",b)\n",
    "print(\"add=\",add)"
   ]
  },
  {
   "cell_type": "code",
   "execution_count": 4,
   "id": "77969a01-449d-4989-a413-91efac999c92",
   "metadata": {},
   "outputs": [
    {
     "name": "stdout",
     "output_type": "stream",
     "text": [
      "a= 43\n",
      "b= 34\n",
      "Sub= 9\n"
     ]
    }
   ],
   "source": [
    "#Subtraction\n",
    "a=43\n",
    "b=34\n",
    "Subtraction=a-b\n",
    "print(\"a=\",a)\n",
    "print(\"b=\",b)\n",
    "print(\"Sub=\",Subtraction)"
   ]
  },
  {
   "cell_type": "code",
   "execution_count": 5,
   "id": "88e095bb-d8ff-4e98-8ffa-a81e2029b8b5",
   "metadata": {},
   "outputs": [
    {
     "name": "stdout",
     "output_type": "stream",
     "text": [
      "a= 43\n",
      "b= 34\n",
      "Mul= 1462\n"
     ]
    }
   ],
   "source": [
    "#Multiplication\n",
    "a=43\n",
    "b=34\n",
    "Mul=a*b\n",
    "print(\"a=\",a)\n",
    "print(\"b=\",b)\n",
    "print(\"Mul=\",Mul)"
   ]
  },
  {
   "cell_type": "code",
   "execution_count": 2,
   "id": "edb42cf8-9fd6-4cad-b822-219e0a4eb1ef",
   "metadata": {},
   "outputs": [
    {
     "name": "stdout",
     "output_type": "stream",
     "text": [
      "a= 76\n",
      "b= 97\n",
      "div= 1.2763157894736843\n"
     ]
    }
   ],
   "source": [
    "#Division\n",
    "a=76\n",
    "b=97\n",
    "float_Div=b/a\n",
    "print(\"a=\",a)\n",
    "print(\"b=\",b)\n",
    "print(\"div=\",float_Div)"
   ]
  },
  {
   "cell_type": "code",
   "execution_count": 8,
   "id": "4c011418-2df4-4e63-a4c5-d1baf019b42c",
   "metadata": {},
   "outputs": [
    {
     "name": "stdout",
     "output_type": "stream",
     "text": [
      "a= 76\n",
      "b= 31\n",
      "Floor Division= 2\n"
     ]
    }
   ],
   "source": [
    "#Floor division\n",
    "a=76\n",
    "b=31\n",
    "floor_Div=a//b\n",
    "print(\"a=\",a)\n",
    "print(\"b=\",b)\n",
    "print(\"Floor Division=\",floor_Div)"
   ]
  },
  {
   "cell_type": "code",
   "execution_count": 7,
   "id": "09412470-9ed4-4517-be1a-221208de1681",
   "metadata": {},
   "outputs": [
    {
     "name": "stdout",
     "output_type": "stream",
     "text": [
      "a= 76\n",
      "b= 31\n",
      "Modulo= 14\n"
     ]
    }
   ],
   "source": [
    "#Modulo\n",
    "a=76\n",
    "b=31\n",
    "mod=a%b\n",
    "print(\"a=\",a)\n",
    "print(\"b=\",b)\n",
    "print(\"Modulo=\",mod)"
   ]
  },
  {
   "cell_type": "code",
   "execution_count": 9,
   "id": "eba64f01-22d3-47cc-9d30-4b5c1e86a599",
   "metadata": {},
   "outputs": [
    {
     "name": "stdout",
     "output_type": "stream",
     "text": [
      "a= 4\n",
      "b= 4\n",
      "Power= 256\n"
     ]
    }
   ],
   "source": [
    "# Power\n",
    "a=4\n",
    "b=4\n",
    "power=4**4\n",
    "print(\"a=\",a)\n",
    "print(\"b=\",b)\n",
    "print(\"Power=\",power)"
   ]
  },
  {
   "cell_type": "code",
   "execution_count": null,
   "id": "63cc8903-13c0-4362-b048-da88c09d49e6",
   "metadata": {},
   "outputs": [],
   "source": []
  }
 ],
 "metadata": {
  "kernelspec": {
   "display_name": "Python 3 (ipykernel)",
   "language": "python",
   "name": "python3"
  },
  "language_info": {
   "codemirror_mode": {
    "name": "ipython",
    "version": 3
   },
   "file_extension": ".py",
   "mimetype": "text/x-python",
   "name": "python",
   "nbconvert_exporter": "python",
   "pygments_lexer": "ipython3",
   "version": "3.12.7"
  }
 },
 "nbformat": 4,
 "nbformat_minor": 5
}
