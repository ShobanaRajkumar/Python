{
 "cells": [
  {
   "cell_type": "code",
   "execution_count": null,
   "id": "88aa67c5-1c55-44b9-b710-be80e77de585",
   "metadata": {},
   "outputs": [],
   "source": [
    "# print 0 to 20 by using range\n",
    "for temp in range(0,20):\n",
    "    print(temp)"
   ]
  },
  {
   "cell_type": "code",
   "execution_count": null,
   "id": "19371e7f-fb11-4388-b2dd-c5877ab128f0",
   "metadata": {},
   "outputs": [],
   "source": [
    "#print range 10 to 20\n",
    "for i in range(10,20):\n",
    "    print(i, end=\" \")"
   ]
  },
  {
   "cell_type": "raw",
   "id": "b3155ec2-18c8-4de8-b145-722dadd0adfe",
   "metadata": {},
   "source": [
    "#Print number of items in the list by using'len'"
   ]
  },
  {
   "cell_type": "code",
   "execution_count": 8,
   "id": "01f5c61e-a703-4598-971c-94c1e6ff081f",
   "metadata": {},
   "outputs": [
    {
     "name": "stdout",
     "output_type": "stream",
     "text": [
      "The Number of Items in the list= 7\n"
     ]
    }
   ],
   "source": [
    "my_list=[10,20,14,55,43,7,76]\n",
    "length= len(my_list)\n",
    "print(\"The Number of Items in the list=\",length)"
   ]
  },
  {
   "cell_type": "code",
   "execution_count": null,
   "id": "26ffaa72-45ce-4b96-8611-9fde367a4537",
   "metadata": {},
   "outputs": [],
   "source": []
  },
  {
   "cell_type": "code",
   "execution_count": null,
   "id": "4b9147e3-a344-43f2-8a48-fbae73a83533",
   "metadata": {},
   "outputs": [],
   "source": []
  }
 ],
 "metadata": {
  "kernelspec": {
   "display_name": "Python 3 (ipykernel)",
   "language": "python",
   "name": "python3"
  },
  "language_info": {
   "codemirror_mode": {
    "name": "ipython",
    "version": 3
   },
   "file_extension": ".py",
   "mimetype": "text/x-python",
   "name": "python",
   "nbconvert_exporter": "python",
   "pygments_lexer": "ipython3",
   "version": "3.12.7"
  }
 },
 "nbformat": 4,
 "nbformat_minor": 5
}
