{
 "cells": [
  {
   "cell_type": "code",
   "execution_count": 3,
   "id": "01a2a931-2645-4dc4-a56e-4cb1d82cf0e3",
   "metadata": {},
   "outputs": [],
   "source": [
    "a= ['Machine Learning', 'Newral Networks','Vision','Robotics','Speech Processing','Natural Language Processing']\n",
    "    "
   ]
  },
  {
   "cell_type": "code",
   "execution_count": 4,
   "id": "ef33ed1f-3564-49f8-86e6-767e4ddefece",
   "metadata": {},
   "outputs": [],
   "source": [
    "def Subfields():\n",
    "    print(\"Sub-fields in AI are:\")\n",
    "    for ai in a:\n",
    "        print(ai)\n",
    "        \n",
    "        "
   ]
  },
  {
   "cell_type": "code",
   "execution_count": 5,
   "id": "3feb14fb-8c79-4c55-b57c-f0ac2874bf34",
   "metadata": {},
   "outputs": [
    {
     "name": "stdout",
     "output_type": "stream",
     "text": [
      "Sub-fields in AI are:\n",
      "Machine Learning\n",
      "Newral Networks\n",
      "Vision\n",
      "Robotics\n",
      "Speech Processing\n",
      "Natural Language Processing\n"
     ]
    }
   ],
   "source": [
    "Subfields()\n"
   ]
  },
  {
   "cell_type": "code",
   "execution_count": 6,
   "id": "ba715b1f-55c8-4d3b-8e7e-9e338d488c49",
   "metadata": {},
   "outputs": [],
   "source": [
    "#Create function\n",
    "def OddEven():\n",
    "    num1=int(input(\"Enter a Number:\"))\n",
    "    num2=num1%2\n",
    "    if (num2==0):\n",
    "        print(num1, \"is Even number\")\n",
    "    else:\n",
    "        print(num1,\"is Odd number\")\n",
    "        "
   ]
  },
  {
   "cell_type": "code",
   "execution_count": 8,
   "id": "4c1f46f8-512b-425d-8012-274e4b7aecf5",
   "metadata": {},
   "outputs": [
    {
     "name": "stdin",
     "output_type": "stream",
     "text": [
      "Enter a Number: 52\n"
     ]
    },
    {
     "name": "stdout",
     "output_type": "stream",
     "text": [
      "52 is Even number\n"
     ]
    }
   ],
   "source": [
    " OddEven()"
   ]
  },
  {
   "cell_type": "code",
   "execution_count": 9,
   "id": "77f48338-575b-44dd-a627-b40d61d27a01",
   "metadata": {},
   "outputs": [],
   "source": [
    "#Create Function\n",
    "def Eligible():\n",
    "    gender=input(\"Your Gender:\")\n",
    "    age=int(input(\"Enter Your Age:\"))\n",
    "    if (gender=='male' and age>=21 or gender=='female' and age>=18):\n",
    "        print(\"Eligible\")\n",
    "    else:\n",
    "        print(\"Not Eligible\")\n",
    "        \n",
    "    "
   ]
  },
  {
   "cell_type": "code",
   "execution_count": 10,
   "id": "6f1c8c31-bb08-4cd5-85d8-bb9e2abfbd8c",
   "metadata": {},
   "outputs": [
    {
     "name": "stdin",
     "output_type": "stream",
     "text": [
      "Your Gender: male\n",
      "Enter Your Age: 45\n"
     ]
    },
    {
     "name": "stdout",
     "output_type": "stream",
     "text": [
      "Eligible\n"
     ]
    }
   ],
   "source": [
    "Eligible()\n"
   ]
  },
  {
   "cell_type": "code",
   "execution_count": 31,
   "id": "86941e7c-c1b5-4891-a70e-fd89062b40c4",
   "metadata": {},
   "outputs": [],
   "source": [
    "#Create Function\n",
    "def Percentage():\n",
    "    sub1=int(input(\"Subject1=\"))\n",
    "    sub2=int(input(\"Subject2=\"))\n",
    "    sub3=int(input(\"Subject3=\"))\n",
    "    sub4=int(input(\"Subject4=\"))\n",
    "    sub5=int(input(\"Subject5=\"))\n",
    "    total=sub1+sub2+sub3+sub4+sub5\n",
    "    percentage=total/5\n",
    "    print(\"Total=\",total)\n",
    "    message=total\n",
    "    return message\n",
    "    print(\"Percentage=\",percentage)\n",
    "    message=percentage\n",
    "    return message"
   ]
  },
  {
   "cell_type": "code",
   "execution_count": 32,
   "id": "95aead3c-4bef-4a62-829f-dd014ade6d85",
   "metadata": {},
   "outputs": [
    {
     "name": "stdin",
     "output_type": "stream",
     "text": [
      "Subject1= 96\n",
      "Subject2= 98\n",
      "Subject3= 60\n",
      "Subject4= 85\n",
      "Subject5= 45\n"
     ]
    },
    {
     "name": "stdout",
     "output_type": "stream",
     "text": [
      "Total= 384\n"
     ]
    },
    {
     "data": {
      "text/plain": [
       "384"
      ]
     },
     "execution_count": 32,
     "metadata": {},
     "output_type": "execute_result"
    }
   ],
   "source": [
    "Percentage()"
   ]
  },
  {
   "cell_type": "code",
   "execution_count": 15,
   "id": "95362e4c-ea8b-4a81-84cb-1ff78ea9162b",
   "metadata": {},
   "outputs": [],
   "source": [
    "#create function\n",
    "def Triangle():\n",
    "    h=int(input(\"Height:\"))\n",
    "    b=int(input(\"Breadth:\"))\n",
    "    area=h*b/2\n",
    "    print(\"Area formula:(Height*Breadth)/2\")\n",
    "    print(\"Area of Triangle:\",area)\n",
    "    h1=int(input(\"Height1:\"))\n",
    "    h2=int(input(\"Height2:\"))\n",
    "    b2=int(input(\"Breadth:\"))\n",
    "    perimeter=h1+h2+b2\n",
    "    print(\"Perimeter Formula: Height1+Height2+Breadth\")\n",
    "    print(\"Perimeter of Triangle:\", perimeter)"
   ]
  },
  {
   "cell_type": "code",
   "execution_count": 16,
   "id": "218758c3-9b16-447e-930e-4330dd6926f2",
   "metadata": {},
   "outputs": [
    {
     "name": "stdin",
     "output_type": "stream",
     "text": [
      "Height: 2\n",
      "Breadth: 3\n"
     ]
    },
    {
     "name": "stdout",
     "output_type": "stream",
     "text": [
      "Area formula:(Height*Breadth)/2\n",
      "Area of Triangle: 3.0\n"
     ]
    },
    {
     "name": "stdin",
     "output_type": "stream",
     "text": [
      "Height1: 2\n",
      "Height2: 2\n",
      "Breadth: 3\n"
     ]
    },
    {
     "name": "stdout",
     "output_type": "stream",
     "text": [
      "Perimeter Formula: Height1+Height2+Breadth\n",
      "Perimeter of Triangle: 7\n"
     ]
    }
   ],
   "source": [
    "Triangle()"
   ]
  },
  {
   "cell_type": "code",
   "execution_count": null,
   "id": "dd3c8547-004f-416d-8cd8-cd3dee83f305",
   "metadata": {},
   "outputs": [],
   "source": []
  }
 ],
 "metadata": {
  "kernelspec": {
   "display_name": "Python 3 (ipykernel)",
   "language": "python",
   "name": "python3"
  },
  "language_info": {
   "codemirror_mode": {
    "name": "ipython",
    "version": 3
   },
   "file_extension": ".py",
   "mimetype": "text/x-python",
   "name": "python",
   "nbconvert_exporter": "python",
   "pygments_lexer": "ipython3",
   "version": "3.12.7"
  }
 },
 "nbformat": 4,
 "nbformat_minor": 5
}
