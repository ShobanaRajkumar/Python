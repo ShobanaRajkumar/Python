{
 "cells": [
  {
   "cell_type": "code",
   "execution_count": null,
   "metadata": {},
   "outputs": [],
   "source": [
    "#create a class and function,and list out the items in the list\n",
    "class subfieldsinAI():\n",
    "    def Subfields():\n",
    "        my_list=[\"Machine learning\",\"Neural Networks\",\"Vision\",\"Robotics\",\"Speech Processing\",\"Natural Language Processing\"]\n",
    "        print(\"Sub_fields in AI are:\")\n",
    "        for name in my_list:\n",
    "            print(name)\n"
   ]
  },
  {
   "cell_type": "code",
   "execution_count": null,
   "metadata": {},
   "outputs": [],
   "source": [
    "subfieldsinAI.Subfields()"
   ]
  },
  {
   "cell_type": "code",
   "execution_count": null,
   "metadata": {},
   "outputs": [],
   "source": [
    "#Create a function that checks whether the given number is odd or Even\n",
    "class oddeven():\n",
    "    def OddEven():\n",
    "        Num1=int(input(\"Enter a Number:\"))\n",
    "        Num2=Num1%2\n",
    "        if(Num2==0):\n",
    "            print(Num1,\"is Even number\")\n",
    "            mes=\"EVEN NUMBER\"\n",
    "        else:\n",
    "            print(Num1,\"is Odd Number\")\n",
    "            mes=\"ODD NUMBER\"\n",
    "        return mes         \n",
    "        \n",
    " "
   ]
  },
  {
   "cell_type": "code",
   "execution_count": null,
   "metadata": {},
   "outputs": [],
   "source": [
    "oe=oddeven.OddEven()"
   ]
  },
  {
   "cell_type": "code",
   "execution_count": null,
   "metadata": {},
   "outputs": [],
   "source": [
    "#Create a function that tells elegibility of marriage for male and female according to their age limit like 21 for male and 18 for female"
   ]
  },
  {
   "cell_type": "markdown",
   "metadata": {},
   "source": [
    " \n",
    "    \n",
    "    \n",
    "    \n",
    "        \n",
    "        "
   ]
  },
  {
   "cell_type": "code",
   "execution_count": 5,
   "metadata": {},
   "outputs": [],
   "source": [
    "class eligible(): \n",
    "    def Eligible():\n",
    "        gender=str(input(\"Your Gender:\"))\n",
    "        Age=int(input(\"Your Age:\")) \n",
    "        C=\"not eligible\"\n",
    "        if(gender=='MALE'and Age>=21):\n",
    "            print(\"Eligible for marriage\")\n",
    "            Elig=\"Eligible for marriage\"\n",
    "        elif(gender=='FEMALE'and Age>=18):\n",
    "            print(\"Eligible for Marriage\")\n",
    "            Elig=\"Eligible for Marriage\"\n",
    "        else:\n",
    "            print(C)\n",
    "        return Elig\n",
    "\n",
    "       "
   ]
  },
  {
   "cell_type": "code",
   "execution_count": 6,
   "metadata": {},
   "outputs": [
    {
     "name": "stdout",
     "output_type": "stream",
     "text": [
      "Your Gender:MALE\n",
      "Your Age:13\n",
      "not eligible\n"
     ]
    },
    {
     "ename": "UnboundLocalError",
     "evalue": "local variable 'Elig' referenced before assignment",
     "output_type": "error",
     "traceback": [
      "\u001b[1;31m---------------------------------------------------------------------------\u001b[0m",
      "\u001b[1;31mUnboundLocalError\u001b[0m                         Traceback (most recent call last)",
      "\u001b[1;32m<ipython-input-6-0f9984058cb5>\u001b[0m in \u001b[0;36m<module>\u001b[1;34m\u001b[0m\n\u001b[1;32m----> 1\u001b[1;33m \u001b[0mma\u001b[0m\u001b[1;33m=\u001b[0m\u001b[0meligible\u001b[0m\u001b[1;33m.\u001b[0m\u001b[0mEligible\u001b[0m\u001b[1;33m(\u001b[0m\u001b[1;33m)\u001b[0m\u001b[1;33m\u001b[0m\u001b[1;33m\u001b[0m\u001b[0m\n\u001b[0m",
      "\u001b[1;32m<ipython-input-5-8e3cf37437d9>\u001b[0m in \u001b[0;36mEligible\u001b[1;34m()\u001b[0m\n\u001b[0;32m     12\u001b[0m         \u001b[1;32melse\u001b[0m\u001b[1;33m:\u001b[0m\u001b[1;33m\u001b[0m\u001b[1;33m\u001b[0m\u001b[0m\n\u001b[0;32m     13\u001b[0m             \u001b[0mprint\u001b[0m\u001b[1;33m(\u001b[0m\u001b[0mC\u001b[0m\u001b[1;33m)\u001b[0m\u001b[1;33m\u001b[0m\u001b[1;33m\u001b[0m\u001b[0m\n\u001b[1;32m---> 14\u001b[1;33m         \u001b[1;32mreturn\u001b[0m \u001b[0mElig\u001b[0m\u001b[1;33m\u001b[0m\u001b[1;33m\u001b[0m\u001b[0m\n\u001b[0m\u001b[0;32m     15\u001b[0m \u001b[1;33m\u001b[0m\u001b[0m\n\u001b[0;32m     16\u001b[0m \u001b[1;33m\u001b[0m\u001b[0m\n",
      "\u001b[1;31mUnboundLocalError\u001b[0m: local variable 'Elig' referenced before assignment"
     ]
    }
   ],
   "source": [
    "ma=eligible.Eligible()"
   ]
  },
  {
   "cell_type": "code",
   "execution_count": 11,
   "metadata": {},
   "outputs": [],
   "source": [
    "#Calculate the percentage of your 10th mark\n",
    "class Findpercentage():\n",
    "    def percentage():\n",
    "        sub1=int(input(\"Subject1=\"))\n",
    "        sub2=int(input(\"Subject2=\"))\n",
    "        sub3=int(input(\"Subject3=\"))         \n",
    "        sub4=int(input(\"Subject4=\"))\n",
    "        sub5=int(input(\"Subject5=\"))\n",
    "        tot=sub1+sub2+sub3+sub4+sub5\n",
    "        per=(sub1+sub2+sub3+sub4+sub5)/5\n",
    "        print(\"Total:\",tot)\n",
    "        print(\"Percentage:\",per)"
   ]
  },
  {
   "cell_type": "code",
   "execution_count": 13,
   "metadata": {},
   "outputs": [
    {
     "name": "stdout",
     "output_type": "stream",
     "text": [
      "Subject1=90\n",
      "Subject2=89\n",
      "Subject3=78\n",
      "Subject4=89\n",
      "Subject5=99\n",
      "Total: 445\n",
      "Percentage: 89.0\n"
     ]
    }
   ],
   "source": [
    "Findpercentage.percentage()"
   ]
  },
  {
   "cell_type": "code",
   "execution_count": 18,
   "metadata": {},
   "outputs": [],
   "source": [
    "#print area and perimeter of triangle using class and function\n",
    "class Triangle():\n",
    "    def triangle():\n",
    "        height=int(input(\"Height:\"))\n",
    "        breadth=int(input(\"Breath:\"))\n",
    "        Area=(height*breadth)/2\n",
    "        print(\"Area formula: (Height*Breadth)/2\")\n",
    "        print(\"Area of Triangle:\",Area)\n",
    "        Height1=int(input(\"Height1:\"))\n",
    "        Height2=int(input(\"Height2:\"))\n",
    "        Breadth=int(input(\"Breadth:\"))\n",
    "        perimeter=Height1+Height2+Breadth\n",
    "        print(\"Perimeter formula: Height1+Height2+Breadth\")\n",
    "        print(\"Perimeter of Triangle:\",perimeter)\n",
    "                      \n",
    "    "
   ]
  },
  {
   "cell_type": "code",
   "execution_count": 19,
   "metadata": {},
   "outputs": [
    {
     "name": "stdout",
     "output_type": "stream",
     "text": [
      "Height:32\n",
      "Breath:34\n",
      "Area formula: (Height*Breadth)/2\n",
      "Area of Triangle: 544.0\n",
      "Height1:2\n",
      "Height2:4\n",
      "Breadth:4\n",
      "Perimeter formula: Height1+Height2+Breadth\n",
      "Perimeter of Triangle: 10\n"
     ]
    }
   ],
   "source": [
    "Triangle.triangle()"
   ]
  },
  {
   "cell_type": "code",
   "execution_count": null,
   "metadata": {},
   "outputs": [],
   "source": []
  }
 ],
 "metadata": {
  "kernelspec": {
   "display_name": "Python 3",
   "language": "python",
   "name": "python3"
  },
  "language_info": {
   "codemirror_mode": {
    "name": "ipython",
    "version": 3
   },
   "file_extension": ".py",
   "mimetype": "text/x-python",
   "name": "python",
   "nbconvert_exporter": "python",
   "pygments_lexer": "ipython3",
   "version": "3.7.4"
  }
 },
 "nbformat": 4,
 "nbformat_minor": 2
}
