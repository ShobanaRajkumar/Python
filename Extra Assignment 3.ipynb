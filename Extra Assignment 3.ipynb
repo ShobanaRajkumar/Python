{
 "cells": [
  {
   "cell_type": "code",
   "execution_count": 2,
   "id": "cb1ce5ee-8935-4a8d-a3a0-db3a82308054",
   "metadata": {},
   "outputs": [
    {
     "name": "stdin",
     "output_type": "stream",
     "text": [
      "Value: 20\n"
     ]
    },
    {
     "name": "stdout",
     "output_type": "stream",
     "text": [
      "Wrong\n"
     ]
    }
   ],
   "source": [
    "#print 'Correct' if i==10\n",
    "i=int(input(\"Value:\"))\n",
    "if(i==10):\n",
    "    print(\"Correct\")\n",
    "else:\n",
    "    print(\"Wrong\")"
   ]
  },
  {
   "cell_type": "code",
   "execution_count": 5,
   "id": "b4ad6951-46cc-4bd9-9a00-c949f10c1c2f",
   "metadata": {},
   "outputs": [
    {
     "name": "stdin",
     "output_type": "stream",
     "text": [
      "Enter the Password: Hope@123\n"
     ]
    },
    {
     "name": "stdout",
     "output_type": "stream",
     "text": [
      "Your Password is Correct\n"
     ]
    }
   ],
   "source": [
    "#check the password , using if and else\n",
    "password=input(\"Enter the Password:\")\n",
    "if(password=='Hope@123'):\n",
    "    print(\"Your Password is Correct\")\n",
    "else:\n",
    "    print(\"Your Password is wrong\")"
   ]
  },
  {
   "cell_type": "code",
   "execution_count": 10,
   "id": "dfc0969b-829b-4d96-8055-5a302966831a",
   "metadata": {},
   "outputs": [
    {
     "name": "stdin",
     "output_type": "stream",
     "text": [
      "Age 78\n"
     ]
    },
    {
     "name": "stdout",
     "output_type": "stream",
     "text": [
      "Senior Citizen\n"
     ]
    }
   ],
   "source": [
    "#Category the people bytheir age likechildren,adult,citizen, senior citizen...\n",
    "age=int(input(\"Age\"))\n",
    "if (age<=13):\n",
    "    print(\"Children\")\n",
    "elif(age>13 and age<=35):\n",
    "    print(\"Adult\")\n",
    "\n",
    "elif(age>35 and age<=60):\n",
    "    print(\"Citizen\")\n",
    "else:\n",
    "    print(\"Senior Citizen\")"
   ]
  },
  {
   "cell_type": "code",
   "execution_count": 12,
   "id": "05f2ccd6-df43-4cf2-91b6-ca6cd08bbfdb",
   "metadata": {},
   "outputs": [
    {
     "name": "stdin",
     "output_type": "stream",
     "text": [
      "Enter any number: -2\n"
     ]
    },
    {
     "name": "stdout",
     "output_type": "stream",
     "text": [
      "No is Negative\n"
     ]
    }
   ],
   "source": [
    "#Find whether given number is positive or negative\n",
    "a=int(input(\"Enter any number:\"))\n",
    "if (a<0):\n",
    "    print(\"No is Negative\")\n",
    "else:\n",
    "    print(\"No is Positive\")"
   ]
  },
  {
   "cell_type": "code",
   "execution_count": 18,
   "id": "c2de9ac5-152e-4c2c-b1ac-32fd899b52fc",
   "metadata": {},
   "outputs": [
    {
     "name": "stdin",
     "output_type": "stream",
     "text": [
      "Enter a number to check: 90\n"
     ]
    },
    {
     "name": "stdout",
     "output_type": "stream",
     "text": [
      "No is Divisible by 5\n"
     ]
    }
   ],
   "source": [
    "# check whether the given number is divisible by 5\n",
    "a=int(input(\"Enter a number to check:\"))\n",
    "b=a%5\n",
    "if (b==0):\n",
    "    print(\"No is Divisible by 5\")\n",
    "else:\n",
    "    print(\" No is not divible by 5\")"
   ]
  },
  {
   "cell_type": "code",
   "execution_count": null,
   "id": "80220987-7546-445a-b92c-13f6c46fe419",
   "metadata": {},
   "outputs": [],
   "source": []
  }
 ],
 "metadata": {
  "kernelspec": {
   "display_name": "Python 3 (ipykernel)",
   "language": "python",
   "name": "python3"
  },
  "language_info": {
   "codemirror_mode": {
    "name": "ipython",
    "version": 3
   },
   "file_extension": ".py",
   "mimetype": "text/x-python",
   "name": "python",
   "nbconvert_exporter": "python",
   "pygments_lexer": "ipython3",
   "version": "3.12.7"
  }
 },
 "nbformat": 4,
 "nbformat_minor": 5
}
